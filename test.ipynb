{
  "nbformat": 4,
  "nbformat_minor": 0,
  "metadata": {
    "colab": {
      "provenance": []
    },
    "kernelspec": {
      "name": "python3",
      "display_name": "Python 3"
    },
    "language_info": {
      "name": "python"
    }
  },
  "cells": [
    {
      "cell_type": "code",
      "source": [
        "print(\"hello world\")"
      ],
      "metadata": {
        "id": "hqV9NTVp-onI",
        "colab": {
          "base_uri": "https://localhost:8080/"
        },
        "outputId": "4d142451-b1f9-4117-af6d-d7175e292238"
      },
      "execution_count": 1,
      "outputs": [
        {
          "output_type": "stream",
          "name": "stdout",
          "text": [
            "hello world\n"
          ]
        }
      ]
    },
    {
      "cell_type": "code",
      "source": [
        "print(\"hihiheloworld\")"
      ],
      "metadata": {
        "id": "b6nXFf-FE-JW",
        "colab": {
          "base_uri": "https://localhost:8080/"
        },
        "outputId": "1123e101-3f19-4096-f50c-f9e6a1c4b3bc"
      },
      "execution_count": 2,
      "outputs": [
        {
          "output_type": "stream",
          "name": "stdout",
          "text": [
            "hihiheloworld\n"
          ]
        }
      ]
    }
  ]
}